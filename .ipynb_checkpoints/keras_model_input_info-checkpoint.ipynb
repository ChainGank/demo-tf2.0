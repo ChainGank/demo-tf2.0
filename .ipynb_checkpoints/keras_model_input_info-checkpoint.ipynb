{
 "cells": [
  {
   "cell_type": "code",
   "execution_count": 6,
   "metadata": {},
   "outputs": [],
   "source": [
    "import tensorflow as tf\n",
    "import tensorflow.keras as keras\n",
    "import keras_applications"
   ]
  },
  {
   "cell_type": "code",
   "execution_count": 13,
   "metadata": {},
   "outputs": [
    {
     "name": "stdout",
     "output_type": "stream",
     "text": [
      "Help on function preprocess_input in module keras_applications.imagenet_utils:\n",
      "\n",
      "preprocess_input(x, data_format=None, mode='caffe', **kwargs)\n",
      "    Preprocesses a tensor or Numpy array encoding a batch of images.\n",
      "    \n",
      "    # Arguments\n",
      "        x: Input Numpy or symbolic tensor, 3D or 4D.\n",
      "            The preprocessed data is written over the input data\n",
      "            if the data types are compatible. To avoid this\n",
      "            behaviour, `numpy.copy(x)` can be used.\n",
      "        data_format: Data format of the image tensor/array.\n",
      "        mode: One of \"caffe\", \"tf\" or \"torch\".\n",
      "            - caffe: will convert the images from RGB to BGR,\n",
      "                then will zero-center each color channel with\n",
      "                respect to the ImageNet dataset,\n",
      "                without scaling.\n",
      "            - tf: will scale pixels between -1 and 1,\n",
      "                sample-wise.\n",
      "            - torch: will scale pixels between 0 and 1 and then\n",
      "                will normalize each channel with respect to the\n",
      "                ImageNet dataset.\n",
      "    \n",
      "    # Returns\n",
      "        Preprocessed tensor or Numpy array.\n",
      "    \n",
      "    # Raises\n",
      "        ValueError: In case of unknown `data_format` argument.\n",
      "\n"
     ]
    }
   ],
   "source": [
    "help(keras_applications.vgg16.preprocess_input)"
   ]
  }
 ],
 "metadata": {
  "kernelspec": {
   "display_name": "Python 3",
   "language": "python",
   "name": "python3"
  },
  "language_info": {
   "codemirror_mode": {
    "name": "ipython",
    "version": 3
   },
   "file_extension": ".py",
   "mimetype": "text/x-python",
   "name": "python",
   "nbconvert_exporter": "python",
   "pygments_lexer": "ipython3",
   "version": "3.7.3"
  }
 },
 "nbformat": 4,
 "nbformat_minor": 2
}
